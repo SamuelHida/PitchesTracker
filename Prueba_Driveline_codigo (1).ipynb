from ipywidgets import interact, widgets

pitchCount = 0
ballCount = 0
strikeCount = 0

def update_counts():
    strike_percentage = "{:.2f}%".format((strikeCount / pitchCount) * 100) if pitchCount > 0 else "0%"
    pitch_count_label.value = str(pitchCount)
    ball_count_label.value = str(ballCount)
    strike_count_label.value = str(strikeCount)
    strike_percentage_label.value = strike_percentage

def select_pitch_type(pitch_type):
    print("Tipo de Pitcheo:", pitch_type)

def increment_ball(b):
    global pitchCount, ballCount
    pitchCount += 1
    ballCount += 1
    update_counts()

def increment_strike(s):
    global pitchCount, strikeCount
    pitchCount += 1
    strikeCount += 1
    update_counts()

pitch_count_label = widgets.Label(value="0")
ball_count_label = widgets.Label(value="0")
strike_count_label = widgets.Label(value="0")
strike_percentage_label = widgets.Label(value="0%")

interact(select_pitch_type, pitch_type=widgets.Dropdown(options=["Fastball", "Curveball", "Slider", "Change up", "Splitter", "Cutter", "Sinker"]))
ball_button = widgets.Button(description="Bola")
strike_button = widgets.Button(description="Strike")

ball_button.on_click(increment_ball)
strike_button.on_click(increment_strike)

widgets.VBox([
    widgets.Label(value="Pitcheos:"),
    pitch_count_label,
    widgets.Label(value="Bolas:"),
    ball_count_label,
    widgets.Label(value="Strikes:"),
    strike_count_label,
    widgets.Label(value="Porcentaje de Strikes:"),
    strike_percentage_label,
    widgets.HBox([ball_button, strike_button])
])
